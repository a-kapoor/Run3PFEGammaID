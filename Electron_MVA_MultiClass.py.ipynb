{
 "cells": [
  {
   "cell_type": "code",
   "execution_count": null,
   "metadata": {},
   "outputs": [],
   "source": []
  },
  {
   "cell_type": "code",
   "execution_count": null,
   "metadata": {},
   "outputs": [],
   "source": [
    "username = \"akapoor\"\n",
    "import getpass\n",
    "import os\n",
    "import uproot\n",
    "import glob\n",
    "import pandas as pd\n",
    "from tqdm import tqdm\n",
    "\n",
    "if os.system('klist | grep Default | grep ' + username + '@CERN.CH'):\n",
    "    os.system('echo %s' % getpass.getpass() + \" | kinit \" + username)"
   ]
  },
  {
   "cell_type": "code",
   "execution_count": null,
   "metadata": {},
   "outputs": [],
   "source": [
    "root_files = '/eos/user/a/akapoor/SWAN_projects/electron_ntuple_TTToSemiLeptonic_TuneCP5_14TeV-_Run3Summer19MiniAOD-2023Scenario.root'\n",
    "\n",
    "f = uproot.open(root_files)\n",
    "f.allkeys()"
   ]
  },
  {
   "cell_type": "code",
   "execution_count": 1,
   "metadata": {},
   "outputs": [],
   "source": [
    "unneccesary_columns = ['ele_index',\n",
    "       'Spring16GPV1Vals', 'Spring16GPV1RawVals', 'Spring16HZZV1Vals',\n",
    "       'Spring16HZZV1RawVals', 'Fall17NoIsoV2Vals',\n",
    "       'Fall17IsoV2Vals', 'Fall17IsoV1Vals',\n",
    "       'Fall17NoIsoV1Vals', 'Spring16GPV1wp80', 'Spring16GPV1wp90',\n",
    "       'Spring16HZZV1wpLoose', 'Fall17noIsoV2wp80',\n",
    "       'Fall17noIsoV2wp90', 'Fall17isoV2wpHZZ', 'Fall17isoV2wp80',\n",
    "       'Fall17isoV2wp90', 'Fall17noIsoV1wp90',\n",
    "       'Fall17noIsoV1wp80', 'Fall17noIsoV1wpLoose', 'Fall17isoV1wp90',\n",
    "       'Fall17isoV1wp80', 'nEvent', 'nRun', 'nLumi']\n"
   ]
  },
  {
   "cell_type": "code",
   "execution_count": 2,
   "metadata": {},
   "outputs": [],
   "source": [
    "def get_df(root_file_name):\n",
    "    f = uproot.open(root_file_name)\n",
    "    if len(f.allkeys()) == 0:\n",
    "        return pd.DataFrame()\n",
    "    df = uproot.open(root_file_name)[\"ntuplizer/tree\"].pandas.df()\n",
    "    return df.drop(unneccesary_columns, axis=1)"
   ]
  },
  {
   "cell_type": "code",
   "execution_count": null,
   "metadata": {},
   "outputs": [],
   "source": [
    "df = get_df(root_files)\n",
    "df.columns\n",
    "\n",
    "import numpy as np\n",
    "\n",
    "df = df.query(\"matchedToGenEle != 2\")\n",
    "df.loc[df[\"matchedToGenEle\"] != 1, \"matchedToGenEle\"] = 0\n",
    "\n",
    "\n",
    "df = df.query(\"abs(scl_eta) < 2.5\")\n",
    "df = df.query(\"ele_pt >= 5\")\n",
    "#ele_fbrem\n",
    "df['ele_fbrem']=df['ele_fbrem'].astype(float)\n",
    "df['ele_convDist']=df['ele_convDist'].astype(float)\n",
    "df['ele_convDcot']=df['ele_convDcot'].astype(float)\n",
    "\n",
    "df = df.query(\"ele_fbrem >= (-0.5)\")\n",
    "df = df.query(\"ele_convDist >= (-2000)\")\n",
    "df = df.query(\"ele_convDcot >= (-2000)\")\n",
    "df = df.query(\"ele_kfhits >= 0\")\n",
    "df = df.query(\"ele_kfchi2 >= 0\")\n",
    "\n",
    "df_barrel = df.query(\"abs(scl_eta) < 1.48\")\n",
    "df_endcap = df.query(\"abs(scl_eta) > 1.57\")\n"
   ]
  }
 ],
 "metadata": {
  "kernelspec": {
   "display_name": "Python 3",
   "language": "python",
   "name": "python3"
  },
  "language_info": {
   "codemirror_mode": {
    "name": "ipython",
    "version": 3
   },
   "file_extension": ".py",
   "mimetype": "text/x-python",
   "name": "python",
   "nbconvert_exporter": "python",
   "pygments_lexer": "ipython3",
   "version": "3.6.5"
  }
 },
 "nbformat": 4,
 "nbformat_minor": 4
}
